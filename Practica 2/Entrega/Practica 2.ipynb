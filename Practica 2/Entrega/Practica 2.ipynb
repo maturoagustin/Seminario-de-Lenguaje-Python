{
 "cells": [
  {
   "cell_type": "markdown",
   "id": "8d527f05",
   "metadata": {},
   "source": [
    "# Seminarios de lenguajes - Python\n",
    "## Práctica 2 - Ejercicio 10\n",
    "\n",
    "### Consigna:\n",
    "Trabajando con los contenidos de los archivos que pueden acceder en el curso:\n",
    "* nombres_1.txt\n",
    "* eval1.txt\n",
    "* eval2.txt\n",
    "\n",
    "Manipule estos archivos para realizar lo siguiente:\n",
    "* Generar una estructura con los nombres de los estudiantes y la suma de ambas notas.\n",
    "* Calcular el promedio de las notas totales e informar que alumnos obtuvieron menos que el\n",
    "promedio.\n",
    "\n",
    "### Resolución:\n",
    "\n",
    "* **1 -** Para empezar, lo primero es abrir los archivos en modo lectura, asignandolos a variables y haciendo uso del **UTF-8** para la lectura de las tildes en los nombres.\n",
    "\n",
    "* **2 -** Declaro las variables a usar para almacenar los datos de los archivos.\n",
    "\n",
    "* **3 -** Se recorren los 3 archivos al mismo tiempo haciendo uso de la función **zip()**, agregando a la lista una tupla con el nombre del alumno y la suma de sus notas y también sumando el total de las notas de todos los alumnos. Para todo esto, a los datos leidos se le eliminan los caracteres innecesarios, haciendo uso de la función **replace()**\n",
    "\n",
    "* **4 -** Como ya se copiaron todos los datos a utilizar, cierro los archivos.\n",
    "\n",
    "* **5 -** Por último, se calcula el promedio y recorriendo la estructura creada, imprime todos los alumnos con la nota total menor al promedio. \n"
   ]
  },
  {
   "cell_type": "code",
   "execution_count": 2,
   "id": "caeadd7e",
   "metadata": {},
   "outputs": [
    {
     "name": "stdout",
     "output_type": "stream",
     "text": [
      "El promedio es de 96.191 puntos.\n",
      "Alumnos con nota menor al promedio: \n",
      "('CESAR', 78)\n",
      "('Diego', 33)\n",
      "('Dolores', 53)\n",
      "('DYLAN', 74)\n",
      "('ELIANA', 13)\n",
      "('Emanuel', 48)\n",
      "('GONZALO', 76)\n",
      "('Gregorio', 90)\n",
      "('Ignacio', 21)\n",
      "('Jonathan', 62)\n",
      "('Jorge', 79)\n",
      "('JUAN', 68)\n",
      "('Julian', 87)\n",
      "('Leonel', 55)\n",
      "('Nicolás', 65)\n",
      "('NICOLÁS', 22)\n",
      "('Priscila', 24)\n",
      "('Yanina', 84)\n"
     ]
    }
   ],
   "source": [
    "#PASO 1\n",
    "arch_nom = open('nombres_1.txt','r',encoding=\"UTF-8\")\n",
    "arch_eva_1 = open('eval1.txt','r')\n",
    "arch_eva_2 = open('eval2.txt','r')\n",
    "\n",
    "#PASO 2\n",
    "alumnos_total = []\n",
    "notas_total = 0\n",
    "\n",
    "#PASO 3\n",
    "for nom,e1,e2 in zip(arch_nom,arch_eva_1,arch_eva_2):\n",
    "    nombre = nom.replace(\"\\'\",\"\").replace(\",\",\"\").replace(\"\\n\",\"\").replace(\" \",\"\")\n",
    "    nota = int(e1.replace(\",\",\"\")) + int(e2.replace(\",\",\"\"))\n",
    "    alumnos_total.append((nombre,nota))\n",
    "    notas_total += nota\n",
    "    \n",
    "#PASO 4\n",
    "arch_nom.close()\n",
    "arch_eva_1.close()\n",
    "arch_eva_2.close()\n",
    "\n",
    "#PASO 5\n",
    "promedio = notas_total / len(alumnos_total)\n",
    "print(f\"El promedio es de {promedio:.3f} puntos.\")\n",
    "print(\"Alumnos con nota menor al promedio: \")\n",
    "for alumno in alumnos_total:\n",
    "    if alumno[1] < promedio:\n",
    "        print(alumno)"
   ]
  }
 ],
 "metadata": {
  "kernelspec": {
   "display_name": "Python 3 (ipykernel)",
   "language": "python",
   "name": "python3"
  },
  "language_info": {
   "codemirror_mode": {
    "name": "ipython",
    "version": 3
   },
   "file_extension": ".py",
   "mimetype": "text/x-python",
   "name": "python",
   "nbconvert_exporter": "python",
   "pygments_lexer": "ipython3",
   "version": "3.10.3"
  }
 },
 "nbformat": 4,
 "nbformat_minor": 5
}
